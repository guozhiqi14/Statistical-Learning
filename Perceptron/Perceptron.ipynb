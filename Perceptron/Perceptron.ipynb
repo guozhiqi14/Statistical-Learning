{
 "cells": [
  {
   "cell_type": "code",
   "execution_count": 587,
   "metadata": {
    "collapsed": true
   },
   "outputs": [],
   "source": [
    "import numpy as np\n",
    "import matplotlib.pyplot as plt\n",
    "import sklearn\n",
    "import scipy.spatial\n",
    "import functools\n",
    "from scipy.spatial import distance\n",
    "plt.style.use('fivethirtyeight') \n",
    "\n",
    "%matplotlib inline"
   ]
  },
  {
   "cell_type": "code",
   "execution_count": 588,
   "metadata": {
    "collapsed": true
   },
   "outputs": [],
   "source": [
    "data_set = np.loadtxt(\"krr-train.txt\") "
   ]
  },
  {
   "cell_type": "code",
   "execution_count": 589,
   "metadata": {
    "collapsed": false
   },
   "outputs": [],
   "source": [
    "x1_coordinate = data_set[:,0].reshape(-1,1);x1_coordinate = x1_coordinate*2\n",
    "x2_coordinate = data_set[:,1].reshape(-1,1);x2_coordinate = x2_coordinate*2"
   ]
  },
  {
   "cell_type": "code",
   "execution_count": 590,
   "metadata": {
    "collapsed": false
   },
   "outputs": [],
   "source": [
    "#Manually set the line to separate dataset\n",
    "def line(x):\n",
    "    y = -1.0*x + 1.8\n",
    "    return y\n",
    "x_pts = np.linspace(-0.5,2.5,num=1000)"
   ]
  },
  {
   "cell_type": "code",
   "execution_count": 591,
   "metadata": {
    "collapsed": false
   },
   "outputs": [
    {
     "data": {
      "image/png": "[encoded data removed]",
      "text/plain": [
       "<matplotlib.figure.Figure at 0x114c6a278>"
      ]
     },
     "metadata": {},
     "output_type": "display_data"
    }
   ],
   "source": [
    "fig = plt.figure(1,figsize=(8, 6))\n",
    "ax = fig.add_subplot(111)\n",
    "plt.scatter(x1_coordinate,x2_coordinate,c='r' ) \n",
    "plt.scatter(x_pts,line(x_pts),linewidth=0.001,s=0.5,c='y')\n",
    "plt.title('Original separable dataset')\n",
    "ax.grid(False) "
   ]
  },
  {
   "cell_type": "code",
   "execution_count": 601,
   "metadata": {
    "collapsed": false
   },
   "outputs": [],
   "source": [
    "#Manually create labels(-1,+1) for the dataset \n",
    "label=[]\n",
    "for pair in zip(x1_coordinate,x2_coordinate): \n",
    "    if pair[1] < line(pair[0]):\n",
    "        label.append(-1)\n",
    "    else:\n",
    "        label.append(1)"
   ]
  },
  {
   "cell_type": "code",
   "execution_count": 602,
   "metadata": {
    "collapsed": false
   },
   "outputs": [],
   "source": [
    "#Initialize parameter w and b \n",
    "w = np.array([0,0])\n",
    "b = 0"
   ]
  },
  {
   "cell_type": "code",
   "execution_count": 603,
   "metadata": {
    "collapsed": false
   },
   "outputs": [],
   "source": [
    "#Algorithm of Perceptron: 'original form'\n",
    "learn_rate = 0.01\n",
    "for itr in range(1000):\n",
    "    index = np.random.choice(100)\n",
    "    x = np.array([x1_coordinate[index][0],x2_coordinate[index][0]])\n",
    "    #print(np.inner(w,x)) \n",
    "    y = label[index]\n",
    "    if y*(np.inner(w,x)+b) <= 0:\n",
    "        w = w + learn_rate*y*x\n",
    "        b = b + learn_rate*y"
   ]
  },
  {
   "cell_type": "code",
   "execution_count": 604,
   "metadata": {
    "collapsed": false
   },
   "outputs": [
    {
     "data": {
      "text/plain": [
       "array([ 0.02775335,  0.02252677])"
      ]
     },
     "execution_count": 604,
     "metadata": {},
     "output_type": "execute_result"
    }
   ],
   "source": [
    "#Return the optimized parameter w\n",
    "w"
   ]
  },
  {
   "cell_type": "code",
   "execution_count": 605,
   "metadata": {
    "collapsed": false
   },
   "outputs": [
    {
     "data": {
      "text/plain": [
       "-0.04"
      ]
     },
     "execution_count": 605,
     "metadata": {},
     "output_type": "execute_result"
    }
   ],
   "source": [
    "#Return the optimized parameter b \n",
    "b"
   ]
  },
  {
   "cell_type": "code",
   "execution_count": 606,
   "metadata": {
    "collapsed": true
   },
   "outputs": [],
   "source": [
    "#label predict by trained Perceptron\n",
    "new_label=[] \n",
    "for i in range(100):\n",
    "    x_coordinate = [x1_coordinate[i][0],x2_coordinate[i][0]]\n",
    "    new_label.append(np.sign(np.inner(w,x_coordinate)+b))"
   ]
  },
  {
   "cell_type": "code",
   "execution_count": 607,
   "metadata": {
    "collapsed": false
   },
   "outputs": [
    {
     "data": {
      "text/plain": [
       "True"
      ]
     },
     "execution_count": 607,
     "metadata": {},
     "output_type": "execute_result"
    }
   ],
   "source": [
    "new_label == label"
   ]
  },
  {
   "cell_type": "code",
   "execution_count": 608,
   "metadata": {
    "collapsed": true
   },
   "outputs": [],
   "source": [
    "def superplane(x):\n",
    "    y = (-w[0]/w[1])*x + (-b)/w[1]\n",
    "    return y\n",
    "x_pts = np.linspace(-0.5,2.5,num=10000)"
   ]
  },
  {
   "cell_type": "code",
   "execution_count": 609,
   "metadata": {
    "collapsed": false
   },
   "outputs": [
    {
     "data": {
      "image/png": "[encoded data removed]",
      "text/plain": [
       "<matplotlib.figure.Figure at 0x114a62390>"
      ]
     },
     "metadata": {},
     "output_type": "display_data"
    }
   ],
   "source": [
    "fig = plt.figure(1,figsize=(8, 6))\n",
    "ax = fig.add_subplot(111) \n",
    "plt.scatter(x1_coordinate,x2_coordinate,c='black' ) \n",
    "plt.scatter(x_pts,superplane(x_pts),linewidth=0.001,s=1,c='r')\n",
    "plt.title('Superplane by trained Perceptron')\n",
    "ax.grid(False) "
   ]
  },
  {
   "cell_type": "code",
   "execution_count": null,
   "metadata": {
    "collapsed": true
   },
   "outputs": [],
   "source": []
  },
  {
   "cell_type": "code",
   "execution_count": null,
   "metadata": {
    "collapsed": true
   },
   "outputs": [],
   "source": []
  },
  {
   "cell_type": "markdown",
   "metadata": {},
   "source": [
    "### Perceptron Dual Form"
   ]
  },
  {
   "cell_type": "code",
   "execution_count": 775,
   "metadata": {
    "collapsed": false,
    "scrolled": false
   },
   "outputs": [],
   "source": [
    "X = np.hstack((x1_coordinate,x2_coordinate))"
   ]
  },
  {
   "cell_type": "code",
   "execution_count": 776,
   "metadata": {
    "collapsed": false
   },
   "outputs": [],
   "source": [
    "#Create Gram matrix\n",
    "Gram = np.dot(X,X.T) "
   ]
  },
  {
   "cell_type": "code",
   "execution_count": 777,
   "metadata": {
    "collapsed": false
   },
   "outputs": [],
   "source": [
    "#Initialize parameters\n",
    "alpha = np.zeros(len(x1_coordinate))\n",
    "b = 0 \n",
    "learn_rate = 0.1 "
   ]
  },
  {
   "cell_type": "code",
   "execution_count": 778,
   "metadata": {
    "collapsed": true
   },
   "outputs": [],
   "source": [
    "for itr in range(1000):\n",
    "    i = np.random.choice(100)\n",
    "    \n",
    "    if label[i]* (sum(alpha*label*Gram[i])+b) <= 0:\n",
    "        alpha[i] += learn_rate\n",
    "        b += learn_rate*label[i]"
   ]
  },
  {
   "cell_type": "code",
   "execution_count": 779,
   "metadata": {
    "collapsed": true
   },
   "outputs": [],
   "source": [
    "w=0\n",
    "for i in range(100):\n",
    "    w += alpha[i]*label[i]*X[i]"
   ]
  },
  {
   "cell_type": "code",
   "execution_count": 780,
   "metadata": {
    "collapsed": false
   },
   "outputs": [
    {
     "data": {
      "text/plain": [
       "True"
      ]
     },
     "execution_count": 780,
     "metadata": {},
     "output_type": "execute_result"
    }
   ],
   "source": [
    "#Prediction by dual Perceptron\n",
    "prediction=[]\n",
    "for i in range(100):\n",
    "    prediction.append(np.sign(np.inner(w,X[i])+b))\n",
    "prediction == label"
   ]
  },
  {
   "cell_type": "code",
   "execution_count": 781,
   "metadata": {
    "collapsed": false
   },
   "outputs": [
    {
     "data": {
      "text/plain": [
       "array([ 0.2801719 ,  0.14246565])"
      ]
     },
     "execution_count": 781,
     "metadata": {},
     "output_type": "execute_result"
    }
   ],
   "source": [
    "w"
   ]
  },
  {
   "cell_type": "code",
   "execution_count": 782,
   "metadata": {
    "collapsed": false
   },
   "outputs": [
    {
     "data": {
      "text/plain": [
       "-0.5"
      ]
     },
     "execution_count": 782,
     "metadata": {},
     "output_type": "execute_result"
    }
   ],
   "source": [
    "b"
   ]
  },
  {
   "cell_type": "code",
   "execution_count": 783,
   "metadata": {
    "collapsed": true
   },
   "outputs": [],
   "source": [
    "def superplane(x):\n",
    "    y = (-w[0]/w[1])*x + (-b)/w[1]\n",
    "    return y\n",
    "x_pts = np.linspace(-0.5,2.5,num=10000)"
   ]
  },
  {
   "cell_type": "code",
   "execution_count": 784,
   "metadata": {
    "collapsed": false
   },
   "outputs": [
    {
     "data": {
      "image/png": "[encoded data removed]",
      "text/plain": [
       "<matplotlib.figure.Figure at 0x112d77048>"
      ]
     },
     "metadata": {},
     "output_type": "display_data"
    }
   ],
   "source": [
    "fig = plt.figure(1,figsize=(8, 6))\n",
    "ax = fig.add_subplot(111)\n",
    "plt.scatter(x1_coordinate,x2_coordinate,c='y' ) \n",
    "plt.scatter(x_pts,superplane(x_pts),linewidth=0.001,s=1,c='r')\n",
    "plt.title('Superplane by trained Dual Perceptron')\n",
    "ax.grid(False) "
   ]
  },
  {
   "cell_type": "code",
   "execution_count": null,
   "metadata": {
    "collapsed": true
   },
   "outputs": [],
   "source": []
  }
 ],
 "metadata": {
  "anaconda-cloud": {},
  "kernelspec": {
   "display_name": "Python [Root]",
   "language": "python",
   "name": "Python [Root]"
  },
  "language_info": {
   "codemirror_mode": {
    "name": "ipython",
    "version": 3
   },
   "file_extension": ".py",
   "mimetype": "text/x-python",
   "name": "python",
   "nbconvert_exporter": "python",
   "pygments_lexer": "ipython3",
   "version": "3.5.2"
  }
 },
 "nbformat": 4,
 "nbformat_minor": 0
}
