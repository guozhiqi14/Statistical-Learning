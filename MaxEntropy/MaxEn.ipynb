{
 "cells": [
  {
   "cell_type": "code",
   "execution_count": 1,
   "metadata": {
    "collapsed": false
   },
   "outputs": [],
   "source": [
    "import pandas as pd\n",
    "import numpy as np\n",
    "\n",
    "import time\n",
    "import math\n",
    "import random\n",
    "\n",
    "from collections import defaultdict\n",
    "\n",
    "#from sklearn.cross_validation import train_test_split\n",
    "from sklearn.model_selection import train_test_split  \n",
    "\n",
    "from sklearn.metrics import accuracy_score"
   ]
  },
  {
   "cell_type": "code",
   "execution_count": 32,
   "metadata": {
    "collapsed": true
   },
   "outputs": [],
   "source": [
    "raw_data = pd.read_csv('/Users/guozhiqi-seven/Documents/Statistical Learning/NaiveBayes/train.csv',header=0)"
   ]
  },
  {
   "cell_type": "code",
   "execution_count": 33,
   "metadata": {
    "collapsed": false
   },
   "outputs": [
    {
     "data": {
      "text/plain": [
       "(42000, 785)"
      ]
     },
     "execution_count": 33,
     "metadata": {},
     "output_type": "execute_result"
    }
   ],
   "source": [
    "raw_data.shape"
   ]
  },
  {
   "cell_type": "code",
   "execution_count": 34,
   "metadata": {
    "collapsed": false
   },
   "outputs": [
    {
     "data": {
      "text/plain": [
       "(10000, 785)"
      ]
     },
     "execution_count": 34,
     "metadata": {},
     "output_type": "execute_result"
    }
   ],
   "source": [
    "raw_data = raw_data[:10000]\n",
    "data = raw_data.values\n",
    "data.shape"
   ]
  },
  {
   "cell_type": "code",
   "execution_count": 35,
   "metadata": {
    "collapsed": false
   },
   "outputs": [
    {
     "data": {
      "text/plain": [
       "array([[1, 0, 0, ..., 0, 0, 0],\n",
       "       [0, 0, 0, ..., 0, 0, 0],\n",
       "       [1, 0, 0, ..., 0, 0, 0],\n",
       "       ..., \n",
       "       [4, 0, 0, ..., 0, 0, 0],\n",
       "       [7, 0, 0, ..., 0, 0, 0],\n",
       "       [9, 0, 0, ..., 0, 0, 0]])"
      ]
     },
     "execution_count": 35,
     "metadata": {},
     "output_type": "execute_result"
    }
   ],
   "source": [
    "data"
   ]
  },
  {
   "cell_type": "code",
   "execution_count": 36,
   "metadata": {
    "collapsed": true
   },
   "outputs": [],
   "source": [
    "imgs = data[:,1:]\n",
    "labels = data[:,0] "
   ]
  },
  {
   "cell_type": "code",
   "execution_count": 37,
   "metadata": {
    "collapsed": true
   },
   "outputs": [],
   "source": [
    "train_set, test_set, train_labels, test_labels = train_test_split(imgs,labels,test_size=0.33,random_state=23333)"
   ]
  },
  {
   "cell_type": "code",
   "execution_count": 38,
   "metadata": {
    "collapsed": false
   },
   "outputs": [
    {
     "data": {
      "text/plain": [
       "(6700, 784)"
      ]
     },
     "execution_count": 38,
     "metadata": {},
     "output_type": "execute_result"
    }
   ],
   "source": [
    "train_set.shape"
   ]
  },
  {
   "cell_type": "code",
   "execution_count": 39,
   "metadata": {
    "collapsed": true
   },
   "outputs": [],
   "source": [
    "def rebuild_features(features):\n",
    "    new_features=[]\n",
    "    \n",
    "    for feature in features:\n",
    "        new_feature = []\n",
    "        \n",
    "        for i,j in enumerate(feature):\n",
    "            new_feature.append(str(i)+'_'+str(j))\n",
    "        \n",
    "        new_features.append(new_feature)\n",
    "        \n",
    "    return new_features"
   ]
  },
  {
   "cell_type": "code",
   "execution_count": 40,
   "metadata": {
    "collapsed": false
   },
   "outputs": [],
   "source": [
    "train_set = rebuild_features(train_set)\n",
    "test_set = rebuild_features(test_set) "
   ]
  },
  {
   "cell_type": "code",
   "execution_count": 41,
   "metadata": {
    "collapsed": false
   },
   "outputs": [],
   "source": [
    "class MaxEntropy(object):\n",
    "    \n",
    "    def init_params(self,X,Y):\n",
    "        self.X = X\n",
    "        self.Y = set()\n",
    "        \n",
    "        self.cal_Pxy_Px(X,Y)\n",
    "        \n",
    "        self.N = len(X)\n",
    "        self.n = len(self.Pxy) # (x,y) pair的对数\n",
    "        self.M = 1000.0 #学习率\n",
    "        \n",
    "        self.build_dict()\n",
    "        self.cal_EPxy() \n",
    "    \n",
    "    \n",
    "    def cal_Pxy_Px(self,X,Y):\n",
    "        '''\n",
    "        Count empirical appearance of each feature and feature-value pair\n",
    "        '''\n",
    "        self.Pxy = defaultdict(int) #对应init params里的n\n",
    "        self.Px  = defaultdict(int)\n",
    "        \n",
    "        for i in xrange(len(X)):\n",
    "            x_,y = X[i],Y[i]\n",
    "            self.Y.add(y)\n",
    "            \n",
    "            for x in x_:\n",
    "                self.Pxy[(x,y)] += 1\n",
    "                self.Px[x] += 1\n",
    "        \n",
    "    def build_dict(self):\n",
    "        self.id2xy = {}\n",
    "        self.xy2id = {}\n",
    "        \n",
    "        for i, (x,y) in enumerate(self.Pxy):\n",
    "            self.id2xy[i] = (x,y)\n",
    "            self.xy2id[(x,y)] = i\n",
    "    \n",
    "    def cal_EPxy(self):\n",
    "        '''\n",
    "        计算P.82 最下面f(x,y) 关于经验分布p~(X,Y)的期望\n",
    "        '''\n",
    "        self.EPxy = defaultdict(float)\n",
    "        \n",
    "        for id in xrange(self.n):\n",
    "            (x,y) = self.id2xy[id]\n",
    "            self.EPxy[id] = float(self.Pxy[(x,y)]) / float(self.N) #why id here \n",
    "    \n",
    "    \n",
    "    def fxy(self,x,y):\n",
    "        return (x,y) in self.xy2id\n",
    "    \n",
    "    def cal_pyx(self,X,y):\n",
    "        '''\n",
    "        Helper for cal_probability()\n",
    "        '''\n",
    "        result = 0.0\n",
    "        for x in X:\n",
    "            if self.fxy(x,y):\n",
    "                id = self.xy2id[(x,y)]\n",
    "                result += self.w[id]  #对应权值向量w的一个entry\n",
    "        \n",
    "        return (np.exp(result),y) \n",
    "    \n",
    "    def cal_probability(self,X):\n",
    "        '''\n",
    "        计算P.85 equation (6.22) \n",
    "        '''\n",
    "        Pyxs = [(self.cal_pyx(X, y)) for y in self.Y]\n",
    "        Z = np.sum([prob for prob,y in Pyxs]) \n",
    "        return [(prob/Z, y) for prob,y in Pyxs]        \n",
    "        \n",
    "    def cal_EPx(self):\n",
    "        '''\n",
    "        P.83最上面的期望， f(x,y) 关于P(Y|X) 和经验分布p~(X)的期望\n",
    "        '''\n",
    "        self.EPx = [0.0 for i in range(self.n)]\n",
    "    \n",
    "        for i,X in enumerate(self.X):\n",
    "            Pyxs = self.cal_probability(X) \n",
    "            \n",
    "            for x in X:\n",
    "                for Pyx, y in Pyxs:\n",
    "                    if self.fxy(x,y):\n",
    "                        id = self.xy2id[(x,y)]\n",
    "                        \n",
    "                        self.EPx[id] += Pyx*(1.0/self.N) ###why 1/length\n",
    "                        #self.EPx[id] += Pyx*(self.Px[x]/self.n)\n",
    "        \n",
    "    def train(self,X,Y):\n",
    "        '''\n",
    "        Train MaxEn model\n",
    "        '''\n",
    "        self.init_params(X,Y)\n",
    "        self.w = [0.0 for i in range(self.n)]\n",
    "        self.w = np.array(self.w)\n",
    "        \n",
    "        #with this model while using 25 iterations it takes around 1 hour\n",
    "        #can't get result when using large iteration number (like 1000 times) \n",
    "        max_iteration = 25 \n",
    "        \n",
    "        for iterate in xrange(max_iteration):\n",
    "            sigmas = []\n",
    "            self.cal_EPx()\n",
    "            \n",
    "            for i in xrange(self.n):\n",
    "                sigma = 1 / self.M * np.log(self.EPxy[i]/self.EPx[i])\n",
    "                sigmas.append(sigma)\n",
    "            \n",
    "            sigmas = np.array(sigmas)\n",
    "            self.w += sigmas\n",
    "            #print sigmas\n",
    "    \n",
    "    def predict(self,testset):\n",
    "        results = []\n",
    "        for test in testset:\n",
    "            result = self.cal_probability(test)\n",
    "            \n",
    "            results.append((max(result, key=lambda x: x[0])[1]))\n",
    "        return results"
   ]
  },
  {
   "cell_type": "code",
   "execution_count": null,
   "metadata": {
    "collapsed": true
   },
   "outputs": [],
   "source": []
  },
  {
   "cell_type": "code",
   "execution_count": 42,
   "metadata": {
    "collapsed": false
   },
   "outputs": [
    {
     "name": "stdout",
     "output_type": "stream",
     "text": [
      "training cost  4058.19630003  second \n",
      "\n",
      "Start predicting\n",
      "predicting cost  33.9070739746  second \n",
      "\n",
      "0.808484848485\n"
     ]
    }
   ],
   "source": [
    "met = MaxEntropy()\n",
    "time_1 = time.time()\n",
    "met.train(train_set, train_labels)\n",
    "time_2 = time.time()\n",
    "\n",
    "time_3 = time.time()\n",
    "print 'training cost ', time_2 - time_1, ' second', '\\n'\n",
    "\n",
    "print 'Start predicting'\n",
    "test_predict = met.predict(test_set)\n",
    "time_4 = time.time()\n",
    "print 'predicting cost ', time_4 - time_3, ' second', '\\n'\n",
    "\n",
    "score = accuracy_score(test_labels, test_predict)\n",
    "print score"
   ]
  },
  {
   "cell_type": "code",
   "execution_count": null,
   "metadata": {
    "collapsed": true
   },
   "outputs": [],
   "source": []
  },
  {
   "cell_type": "code",
   "execution_count": 43,
   "metadata": {
    "collapsed": false
   },
   "outputs": [
    {
     "data": {
      "text/plain": [
       "0.1091044776119403"
      ]
     },
     "execution_count": 43,
     "metadata": {},
     "output_type": "execute_result"
    }
   ],
   "source": [
    "max(met.EPxy.values()) "
   ]
  },
  {
   "cell_type": "code",
   "execution_count": 45,
   "metadata": {
    "collapsed": false
   },
   "outputs": [
    {
     "data": {
      "text/plain": [
       "array([ 0.0040996 , -0.00407161,  0.02080868, ...,  0.02773535,\n",
       "       -0.003552  ,  0.02241716])"
      ]
     },
     "execution_count": 45,
     "metadata": {},
     "output_type": "execute_result"
    }
   ],
   "source": [
    "met.w"
   ]
  },
  {
   "cell_type": "code",
   "execution_count": null,
   "metadata": {
    "collapsed": true
   },
   "outputs": [],
   "source": []
  },
  {
   "cell_type": "code",
   "execution_count": null,
   "metadata": {
    "collapsed": true
   },
   "outputs": [],
   "source": []
  }
 ],
 "metadata": {
  "anaconda-cloud": {},
  "kernelspec": {
   "display_name": "Python [python2]",
   "language": "python",
   "name": "Python [python2]"
  },
  "language_info": {
   "codemirror_mode": {
    "name": "ipython",
    "version": 2
   },
   "file_extension": ".py",
   "mimetype": "text/x-python",
   "name": "python",
   "nbconvert_exporter": "python",
   "pygments_lexer": "ipython2",
   "version": "2.7.13"
  }
 },
 "nbformat": 4,
 "nbformat_minor": 0
}
