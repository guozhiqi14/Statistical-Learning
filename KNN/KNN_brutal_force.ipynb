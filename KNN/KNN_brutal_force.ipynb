{
 "cells": [
  {
   "cell_type": "code",
   "execution_count": 3,
   "metadata": {
    "collapsed": true
   },
   "outputs": [],
   "source": [
    "import numpy as np\n",
    "import operator\n",
    "import matplotlib.pyplot as plt\n",
    "plt.style.use('fivethirtyeight') \n",
    "%matplotlib inline"
   ]
  },
  {
   "cell_type": "code",
   "execution_count": 48,
   "metadata": {
    "collapsed": true
   },
   "outputs": [],
   "source": [
    "class KNN:\n",
    "    def createDataSet(self):\n",
    "        #training set\n",
    "        group = np.array([[0,0],[1.0,0],[2,0],[1.5,1.5],[1,2],[4,5],[5,5],[4.5,4.5],[5,4]])\n",
    "        labels = ['A','A','A','A','A','B','B','B','B']\n",
    "        return group, labels\n",
    "    \n",
    "    def KNNClassify(self,testX,trainX,trainY,K):\n",
    "        '''\n",
    "        K should be specified as k neighbors\n",
    "        '''\n",
    "        \n",
    "        #N,D = group.shape\n",
    "        \n",
    "        distance=[]\n",
    "        for instance in trainX:\n",
    "            dist_pair = np.sqrt(sum((instance-testX)**2))\n",
    "            distance.append(dist_pair)\n",
    "        sort_index = np.argsort(distance) \n",
    "        \n",
    "        vote={'A':0,'B':0}\n",
    "        for i in range(K):\n",
    "            vote[labels[sort_index[0]]] += 1\n",
    "        \n",
    "        sortedvote = sorted(vote.items(), key=operator.itemgetter(1),reverse=True)\n",
    "\n",
    "        return sortedvote[0][0]          \n",
    "   "
   ]
  },
  {
   "cell_type": "code",
   "execution_count": 49,
   "metadata": {
    "collapsed": true
   },
   "outputs": [],
   "source": [
    "k = KNN()"
   ]
  },
  {
   "cell_type": "code",
   "execution_count": 68,
   "metadata": {
    "collapsed": false
   },
   "outputs": [
    {
     "name": "stdout",
     "output_type": "stream",
     "text": [
      "B\n"
     ]
    }
   ],
   "source": [
    "group,labels = k.createDataSet()\n",
    "testX = [4.6,4.6]\n",
    "cls = k.KNNClassify(testX,group,labels,3)\n",
    "print(cls) "
   ]
  },
  {
   "cell_type": "markdown",
   "metadata": {},
   "source": [
    "### Visualization"
   ]
  },
  {
   "cell_type": "code",
   "execution_count": 69,
   "metadata": {
    "collapsed": false
   },
   "outputs": [
    {
     "data": {
      "text/plain": [
       "<matplotlib.collections.PathCollection at 0x11101f240>"
      ]
     },
     "execution_count": 69,
     "metadata": {},
     "output_type": "execute_result"
    },
    {
     "data": {
      "image/png": "[encoded data removed]",
      "text/plain": [
       "<matplotlib.figure.Figure at 0x110fd4080>"
      ]
     },
     "metadata": {},
     "output_type": "display_data"
    }
   ],
   "source": [
    "fig = plt.figure(1,figsize=(8, 6))\n",
    "ax = fig.add_subplot(111)\n",
    "for item in group:\n",
    "    plt.scatter(item[0],item[1],c='r')\n",
    "\n",
    "plt.scatter(testX[0],testX[1],c='g')"
   ]
  },
  {
   "cell_type": "code",
   "execution_count": null,
   "metadata": {
    "collapsed": true
   },
   "outputs": [],
   "source": []
  }
 ],
 "metadata": {
  "anaconda-cloud": {},
  "kernelspec": {
   "display_name": "Python [Root]",
   "language": "python",
   "name": "Python [Root]"
  },
  "language_info": {
   "codemirror_mode": {
    "name": "ipython",
    "version": 3
   },
   "file_extension": ".py",
   "mimetype": "text/x-python",
   "name": "python",
   "nbconvert_exporter": "python",
   "pygments_lexer": "ipython3",
   "version": "3.5.2"
  }
 },
 "nbformat": 4,
 "nbformat_minor": 0
}
